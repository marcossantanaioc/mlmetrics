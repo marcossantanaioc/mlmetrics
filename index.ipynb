{
 "cells": [
  {
   "cell_type": "code",
   "execution_count": 1,
   "metadata": {},
   "outputs": [],
   "source": [
    "#hide\n",
    "%load_ext autoreload\n",
    "%autoreload 2"
   ]
  },
  {
   "cell_type": "markdown",
   "metadata": {},
   "source": [
    "# mlmetrics\n",
    "> A collection of metrics suitable to validate machine learning models"
   ]
  },
  {
   "cell_type": "markdown",
   "metadata": {},
   "source": [
    "## Install"
   ]
  },
  {
   "cell_type": "markdown",
   "metadata": {},
   "source": [
    "`pip install mlmetrics`"
   ]
  },
  {
   "cell_type": "markdown",
   "metadata": {},
   "source": [
    "## How to use"
   ]
  },
  {
   "cell_type": "code",
   "execution_count": 12,
   "metadata": {},
   "outputs": [],
   "source": [
    "#hide\n",
    "from sklearn.datasets import make_multilabel_classification, make_classification, make_regression\n",
    "from sklearn.ensemble import RandomForestClassifier, RandomForestRegressor\n",
    "from sklearn.model_selection import train_test_split, cross_validate, StratifiedKFold\n",
    "from sklearn.multioutput import ClassifierChain, RegressorChain\n",
    "from sklearn.preprocessing import label_binarize\n",
    "from mlmetrics.metrics import R2Score, MAEScore, MSEScore, RecallScore, PrecisionScore, MatthewsCorrCoef, FBetaScore"
   ]
  },
  {
   "cell_type": "markdown",
   "metadata": {},
   "source": [
    "**Regression**"
   ]
  },
  {
   "cell_type": "code",
   "execution_count": 13,
   "metadata": {},
   "outputs": [],
   "source": [
    "X_multi_reg, y_multi_reg = make_regression(n_samples=200, n_features=20, n_targets=5)"
   ]
  },
  {
   "cell_type": "code",
   "execution_count": 14,
   "metadata": {},
   "outputs": [
    {
     "name": "stdout",
     "output_type": "stream",
     "text": [
      "0.49586160914087074 104.85123707100779 16146.026634700776\n"
     ]
    }
   ],
   "source": [
    "model = RandomForestRegressor()\n",
    "\n",
    "Xtrain,Xtest,ytrain,ytest = train_test_split(X_multi_reg, y_multi_reg,test_size=0.2)\n",
    "\n",
    "model.fit(Xtrain, ytrain)\n",
    "\n",
    "preds = model.predict(Xtest)\n",
    "\n",
    "print(R2Score()(ytest, preds), MAEScore()(ytest, preds), MSEScore()(ytest, preds))"
   ]
  },
  {
   "cell_type": "markdown",
   "metadata": {},
   "source": [
    "**Classification**"
   ]
  },
  {
   "cell_type": "code",
   "execution_count": 15,
   "metadata": {},
   "outputs": [],
   "source": [
    "X_class, y_class = make_classification(n_samples=200, n_features=20, n_classes=2)"
   ]
  },
  {
   "cell_type": "code",
   "execution_count": 16,
   "metadata": {},
   "outputs": [
    {
     "name": "stdout",
     "output_type": "stream",
     "text": [
      "0.85 1.0 0.8597269536210952\n"
     ]
    }
   ],
   "source": [
    "model = RandomForestClassifier()\n",
    "\n",
    "Xtrain,Xtest,ytrain,ytest = train_test_split(X_class, y_class, stratify=y_class, test_size=0.2)\n",
    "\n",
    "model.fit(Xtrain, ytrain)\n",
    "\n",
    "preds = model.predict(Xtest)\n",
    "\n",
    "print(RecallScore()(ytest, preds), PrecisionScore()(ytest, preds), MatthewsCorrCoef()(ytest, preds))"
   ]
  }
 ],
 "metadata": {
  "kernelspec": {
   "display_name": "Python 3",
   "language": "python",
   "name": "python3"
  },
  "language_info": {
   "codemirror_mode": {
    "name": "ipython",
    "version": 3
   },
   "file_extension": ".py",
   "mimetype": "text/x-python",
   "name": "python",
   "nbconvert_exporter": "python",
   "pygments_lexer": "ipython3",
   "version": "3.8.8"
  }
 },
 "nbformat": 4,
 "nbformat_minor": 2
}
